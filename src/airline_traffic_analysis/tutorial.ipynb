{
 "cells": [
  {
   "cell_type": "markdown",
   "id": "38c14a54",
   "metadata": {},
   "source": [
    "# Air Traffic Data Analysis Tutorial\n",
    "\n",
    "## 1. Introduction\n",
    "For this package, we consider airlines traffic passenger statistics data. This tutorial will guide you through the steps of data preprocessing, data visualization, and data summarization using the provided classes: `DataPreProcessor`, `DataVisualizer`, and `DataSummary`. These classes are designed to clean the data, visualize trends, and generate insights from the air traffic dataset.\n"
   ]
  },
  {
   "cell_type": "markdown",
   "id": "6778ebaa",
   "metadata": {},
   "source": [
    "\n",
    "## 2. Setup\n",
    "\n",
    "First, import the necessary libraries and load the dataset."
   ]
  },
  {
   "cell_type": "code",
   "execution_count": 1,
   "id": "d2031da5",
   "metadata": {
    "vscode": {
     "languageId": "plaintext"
    }
   },
   "outputs": [
    {
     "ename": "ModuleNotFoundError",
     "evalue": "No module named 'airline_traffic_analysis'",
     "output_type": "error",
     "traceback": [
      "\u001b[31m---------------------------------------------------------------------------\u001b[39m",
      "\u001b[31mModuleNotFoundError\u001b[39m                       Traceback (most recent call last)",
      "\u001b[36mCell\u001b[39m\u001b[36m \u001b[39m\u001b[32mIn[1]\u001b[39m\u001b[32m, line 5\u001b[39m\n\u001b[32m      2\u001b[39m sys.path.append(\u001b[33m'\u001b[39m\u001b[33m./src\u001b[39m\u001b[33m'\u001b[39m)\n\u001b[32m      4\u001b[39m \u001b[38;5;28;01mimport\u001b[39;00m\u001b[38;5;250m \u001b[39m\u001b[34;01mpandas\u001b[39;00m\u001b[38;5;250m \u001b[39m\u001b[38;5;28;01mas\u001b[39;00m\u001b[38;5;250m \u001b[39m\u001b[34;01mpd\u001b[39;00m\n\u001b[32m----> \u001b[39m\u001b[32m5\u001b[39m \u001b[38;5;28;01mfrom\u001b[39;00m\u001b[38;5;250m \u001b[39m\u001b[34;01mairline_traffic_analysis\u001b[39;00m\u001b[34;01m.\u001b[39;00m\u001b[34;01mdata_preprocess\u001b[39;00m\u001b[38;5;250m \u001b[39m\u001b[38;5;28;01mimport\u001b[39;00m DataPreProcessor\n\u001b[32m      6\u001b[39m \u001b[38;5;28;01mfrom\u001b[39;00m\u001b[38;5;250m \u001b[39m\u001b[34;01mairline_traffic_analysis\u001b[39;00m\u001b[34;01m.\u001b[39;00m\u001b[34;01mdata_visualization\u001b[39;00m\u001b[38;5;250m \u001b[39m\u001b[38;5;28;01mimport\u001b[39;00m DataVisualizer\n\u001b[32m      7\u001b[39m \u001b[38;5;28;01mfrom\u001b[39;00m\u001b[38;5;250m \u001b[39m\u001b[34;01mairline_traffic_analysis\u001b[39;00m\u001b[34;01m.\u001b[39;00m\u001b[34;01msummary\u001b[39;00m\u001b[38;5;250m \u001b[39m\u001b[38;5;28;01mimport\u001b[39;00m DataSummary\n",
      "\u001b[31mModuleNotFoundError\u001b[39m: No module named 'airline_traffic_analysis'"
     ]
    }
   ],
   "source": [
    "import sys\n",
    "sys.path.append('./src')\n",
    "\n",
    "import pandas as pd\n",
    "from airline_traffic_analysis.data_preprocess import DataPreProcessor\n",
    "from airline_traffic_analysis.data_visualization import DataVisualizer\n",
    "from airline_traffic_analysis.summary import DataSummary\n",
    "\n",
    "# Load the air traffic dataset (update the path accordingly)\n",
    "df = pd.read_csv('./Air_Traffic_Passenger_Statistics.csv', index_col=0)\n",
    "\n",
    "# Display the first few rows of the dataset\n",
    "df.head()\n"
   ]
  },
  {
   "cell_type": "markdown",
   "id": "fc503fc0",
   "metadata": {},
   "source": [
    "\n",
    "## 3. Data Preprocessing: `DataPreProcessor` Class\n",
    "\n",
    "The `DataPreProcessor` class is responsible for cleaning and transforming the raw data into a usable format for analysis. It performs the following tasks:\n",
    "- **Converting date columns** to the correct format.\n",
    "- **Handling missing values**.\n",
    "- **Removing duplicates**.\n",
    "\n",
    "### Methods in the `DataPreProcessor` Class:\n",
    "- `__init__(self, dataframe)`: Initializes the class with the dataset (which should be a Pandas DataFrame).\n",
    "- `convert_date_columns(self)`: Converts the `Activity Period` column to a datetime format and extracts year and month.\n",
    "- `handle_missing_values(self)`: Fills missing values by using the last valid observation (forward fill).\n",
    "- `remove_duplicates(self)`: Removes any duplicate rows in the dataset.\n",
    "- `preprocess(self)`: Runs all preprocessing steps (date conversion, missing values, duplicates, and new features).\n",
    "  \n",
    "### Using the `DataPreProcessor` Class:\n"
   ]
  },
  {
   "cell_type": "code",
   "execution_count": null,
   "id": "46ea19b6",
   "metadata": {
    "vscode": {
     "languageId": "plaintext"
    }
   },
   "outputs": [],
   "source": [
    "# Create an instance of DataPreProcessor\n",
    "preprocessor = DataPreProcessor(df)\n",
    "\n",
    "# Run the preprocessing steps and see the output\n",
    "processed_data = preprocessor.preprocess()\n",
    "\n",
    "# Check the processed data\n",
    "processed_data.head()\n"
   ]
  },
  {
   "cell_type": "markdown",
   "id": "e4438de8",
   "metadata": {},
   "source": [
    "## 4. Data Visualization: `DataVisualizer` Class\n",
    "\n",
    "The `DataVisualizer` class allows you to create various visualizations for the dataset. You can visualize:\n",
    "- **Passenger count over time**.\n",
    "- **Total passenger count by airline**.\n",
    "- **Monthly traffic trends**.\n",
    "- **Yearly/monthly heatmaps of traffic**.\n",
    "\n",
    "### Methods in the `DataVisualizer` Class:\n",
    "- `__init__(self, dataframe)`: Initializes the class with the dataset.\n",
    "- `plot_passenger_count_over_time(self)`: Plots the passenger count over time (`Activity Period` vs `Passenger Count`).\n",
    "- `plot_passenger_count_by_airline(self)`: Creates a bar plot of total passenger count by airline. In this plot, due to higher number of    airlines, we filtered it to 10.\n",
    "- `plot_monthly_traffic_trend(self)`: Plots a line chart showing monthly passenger traffic trends.\n",
    "- `plot_year_month_heatmap(self)`: Creates a heatmap showing the traffic by Year and Month.\n",
    "\n",
    "### Using the `DataVisualizer` Class:"
   ]
  },
  {
   "cell_type": "code",
   "execution_count": null,
   "id": "0f33d86e",
   "metadata": {
    "vscode": {
     "languageId": "plaintext"
    }
   },
   "outputs": [],
   "source": [
    "\n",
    "# Create an instance of DataVisualizer\n",
    "visualizer = DataVisualizer(processed_data)\n",
    "\n",
    "# Plot passenger count over time\n",
    "visualizer.plot_passenger_count_over_time()\n",
    "\n",
    "# Plot total passenger count by airline\n",
    "visualizer.plot_passenger_count_by_airline()\n",
    "\n",
    "# Plot monthly traffic trend\n",
    "visualizer.plot_monthly_traffic_trend()\n",
    "\n",
    "# Create heatmap for traffic by Year and Month\n",
    "visualizer.plot_year_month_heatmap()"
   ]
  },
  {
   "cell_type": "code",
   "execution_count": null,
   "id": "001c7612",
   "metadata": {
    "vscode": {
     "languageId": "plaintext"
    }
   },
   "outputs": [],
   "source": [
    "\n",
    "## 5. Data Summary: `DataSummary` Class\n",
    "\n",
    "The `DataSummary` class provides essential summary statistics and insights, including:\n",
    "- **Descriptive statistics** for passenger counts.\n",
    "- **Total traffic by airline**.\n",
    "- **Monthly traffic breakdown**.\n",
    "- **Year-on-year growth** of passenger traffic.\n",
    "\n",
    "### Methods in the `DataSummary` Class:\n",
    "- `__init__(self, dataframe)`: Initializes with the dataset.\n",
    "- `summary_statistics(self)`: Returns summary statistics (mean, median, min, max, etc.) for passenger counts.\n",
    "- `traffic_by_airline(self)`: Returns total traffic by each airline.\n",
    "- `monthly_traffic_summary(self)`: Returns total traffic for each month.\n",
    "- `year_on_year_growth(self)`: Calculates and returns the year-on-year growth of passenger traffic.\n",
    "\n",
    "### Using the `DataSummary` Class:"
   ]
  },
  {
   "cell_type": "code",
   "execution_count": null,
   "id": "edd48de4",
   "metadata": {
    "vscode": {
     "languageId": "plaintext"
    }
   },
   "outputs": [],
   "source": [
    "\n",
    "# Create an instance of DataSummary\n",
    "summary = DataSummary(processed_data)\n",
    "\n",
    "# Show summary statistics for passenger count\n",
    "print(summary.summary_statistics())\n",
    "\n",
    "# Show total traffic by airline\n",
    "print(summary.traffic_by_airline())\n",
    "\n",
    "# Show monthly traffic summary\n",
    "print(summary.monthly_traffic_summary())\n",
    "\n",
    "# Show year-on-year growth\n",
    "print(summary.year_on_year_growth())"
   ]
  },
  {
   "cell_type": "markdown",
   "id": "fab73d34",
   "metadata": {},
   "source": [
    "\n",
    "## 6. Conclusion\n",
    "\n",
    "In this tutorial, we demonstrated how to:\n",
    "- **Preprocess** the air traffic data using `DataPreProcessor`.\n",
    "- **Visualize** trends and patterns using `DataVisualizer`.\n",
    "- **Summarize** key statistics and insights using `DataSummary`.\n"
   ]
  }
 ],
 "metadata": {
  "kernelspec": {
   "display_name": "Python 3 (ipykernel)",
   "language": "python",
   "name": "python3"
  },
  "language_info": {
   "codemirror_mode": {
    "name": "ipython",
    "version": 3
   },
   "file_extension": ".py",
   "mimetype": "text/x-python",
   "name": "python",
   "nbconvert_exporter": "python",
   "pygments_lexer": "ipython3",
   "version": "3.11.0"
  }
 },
 "nbformat": 4,
 "nbformat_minor": 5
}
